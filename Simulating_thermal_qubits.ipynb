{
 "cells": [
  {
   "cell_type": "code",
   "execution_count": 1,
   "id": "068f517c",
   "metadata": {},
   "outputs": [],
   "source": [
    "from qiskit import *\n",
    "from qiskit.visualization import plot_histogram\n",
    "import numpy as np\n",
    "from numpy import pi\n",
    "from qiskit.opflow import I, X, Y, Z, MatrixEvolution, PauliTrotterEvolution\n",
    "from qiskit.circuit import Parameter\n",
    "from qiskit.compiler import transpile"
   ]
  },
  {
   "cell_type": "markdown",
   "id": "7d26e2db",
   "metadata": {},
   "source": [
    "# Simulating thermal qubits throught thermofield dynamics"
   ]
  },
  {
   "cell_type": "markdown",
   "id": "af42ab53",
   "metadata": {},
   "source": [
    "### Introduction"
   ]
  },
  {
   "cell_type": "markdown",
   "id": "cba9087b",
   "metadata": {},
   "source": [
    "This notebook presents a step-by-step explanation on how to implement thermal qubits states using thermofield formalism in Qiskit. In the first section, we start with a simple revision on thermofield dynamics(TFD). After we go over each of the steps of the process of creating a simulation of a thermal qubit on qiskit. After we make a non-thermal qubit be teleported to a thermal reservoir as an application, where the code is provided."
   ]
  },
  {
   "cell_type": "markdown",
   "id": "4dfa8b78",
   "metadata": {},
   "source": [
    "### Thermo Field Dynamics"
   ]
  },
  {
   "cell_type": "markdown",
   "id": "3294c877",
   "metadata": {},
   "source": [
    "The Thermo Field Dynamics (TFD) formalism is introduced here for study at finite temperatures.For a thermal equilibrium system, the ensemble average for an operator $ A $ is given by:\n",
    "\n",
    "\\begin{equation}\n",
    "\\langle A\\rangle= \\frac{1}{Z(\\beta)}\\text{Tr}(e^{-\\beta H}A)\\label{avg}    \n",
    "\\end{equation}\n",
    "\n",
    "However the usual average value of an operator $A$ in quantum theories are given by\n",
    "\n",
    "$$\n",
    "\\langle A \\rangle=\\langle n|A|n\\rangle\n",
    "$$\n",
    "\n",
    "We can define a state $ | 0 (\\beta)\\rangle $, such that\n",
    "\n",
    "\\begin{equation}\n",
    "|0(\\beta)\\rangle = \\sum_n \\frac{1}{\\sqrt{Z(\\beta)}}e^{-\\beta E_{n}/2}|n,\\widetilde{n}\\rangle\\label{thermostate}\n",
    "\\end{equation}\n",
    "\n",
    "For a two-level system, we have \n",
    "\n",
    "\\begin{equation}\n",
    "|0(\\beta)\\rangle=\\frac{1}{Z(\\beta)^{1/2}}\\big(|0,\\widetilde{0}\\rangle+e^{-\\beta\\frac{\\omega}{2}}|1,\\widetilde{1}\\rangle\\big)\n",
    "\\end{equation}\n",
    "\n",
    "We can rewrite the above equation as\n",
    "\\begin{equation}\n",
    "|0(\\beta)\\rangle = a|0,\\widetilde{0}\\rangle+b|1,\\widetilde{1}\\rangle.\n",
    "\\end{equation}\n",
    "\n",
    "This resembles the 2d representation of a qubit\n",
    "\\begin{equation*}\n",
    "   |q\\rangle = \\cos{\\tfrac{\\theta}{2}}|0\\rangle + e^{i\\phi}\\sin{\\tfrac{\\theta}{2}}|1\\rangle,\n",
    "\\end{equation*}\n",
    "with $\\cos{\\frac{\\theta}{2}}=\\frac{1}{\\sqrt{1+e^{-\\beta\\omega}}}$, and $\\sin{\\frac{\\theta}{2}}=\\frac{e^{-\\beta\\omega/2}}{\\sqrt{1+e^{-\\beta\\omega}}}$\n",
    "\n",
    "Thus, we can represent the thermal vacuum in quantum circuit as"
   ]
  },
  {
   "cell_type": "code",
   "execution_count": 2,
   "id": "dabfb6bf",
   "metadata": {},
   "outputs": [
    {
     "data": {
      "image/png": "[encoded data removed]",
      "text/plain": [
       "<Figure size 206.852x144.48 with 1 Axes>"
      ]
     },
     "execution_count": 2,
     "metadata": {},
     "output_type": "execute_result"
    }
   ],
   "source": [
    "# Define a variable theta to be a parameter with name 'theta'\n",
    "theta = Parameter('theta')\n",
    "# Set number of qubits to 2\n",
    "qubits_count = 2\n",
    "# Initialize a quantum circuit with one qubit\n",
    "qc = QuantumCircuit(qubits_count)\n",
    "\n",
    "# Add a parametrized RX rotation on the qubit\n",
    "qc.ry(theta,0)\n",
    "qc.cx(0,1)\n",
    "qc.draw(output='mpl')\n",
    "#print(qc)"
   ]
  },
  {
   "cell_type": "markdown",
   "id": "b448a18b",
   "metadata": {},
   "source": [
    "where we chose φ = 0 for simplicity. \n",
    "\n",
    "Considering $\\omega=1$ the angle $\\theta$ is defined only by the inverse temperature $ \\beta $ given the equations\n",
    "\n",
    "\\begin{equation*}\n",
    "    \\begin{aligned}\n",
    "    \\cos\\frac{\\theta}{2}&=\\frac{1}{\\sqrt{1+e^{-\\beta}}},\\\\\n",
    "    \\\\\n",
    "    \\sin\\frac{\\theta}{2}&=\\frac{1}{\\sqrt{1+e^{\\beta}}}.\n",
    "    \\end{aligned}\n",
    "\\end{equation*}\n",
    "\n",
    "This is a thermal qubit."
   ]
  },
  {
   "cell_type": "markdown",
   "id": "fdd01ab6",
   "metadata": {},
   "source": [
    "### Quantum teleport at finite temperature "
   ]
  },
  {
   "cell_type": "markdown",
   "id": "6de6f9e1",
   "metadata": {},
   "source": [
    "In this section we will implement a quantum algorithm to simulate a teleport of a non-thermal qubit into a thermal resevoir in qiskit"
   ]
  },
  {
   "cell_type": "markdown",
   "id": "944bcb71",
   "metadata": {},
   "source": [
    "First we create the registers"
   ]
  },
  {
   "cell_type": "code",
   "execution_count": 3,
   "id": "4c9c085e",
   "metadata": {},
   "outputs": [],
   "source": [
    "# Creating registers\n",
    "qreg_q = QuantumRegister(6, 'q')\n",
    "creg_c = ClassicalRegister(6, 'c')\n",
    "circuit = QuantumCircuit(qreg_q, creg_c)"
   ]
  },
  {
   "cell_type": "markdown",
   "id": "a5cc5260",
   "metadata": {},
   "source": [
    "The TFD-double sates for the teleport circuit between the non-thermal and thermal qubit for $\\theta=0.1.5658$, $\\beta\\approx 0.01$, is "
   ]
  },
  {
   "cell_type": "code",
   "execution_count": 4,
   "id": "eb59994a",
   "metadata": {},
   "outputs": [
    {
     "data": {
      "image/png": "[encoded data removed]",
      "text/plain": [
       "<Figure size 267.197x445.48 with 1 Axes>"
      ]
     },
     "execution_count": 4,
     "metadata": {},
     "output_type": "execute_result"
    }
   ],
   "source": [
    "#Prepering the thermal states\n",
    "theta_value=1.5658\n",
    "circuit.ry(theta_value, qreg_q[2])\n",
    "circuit.ry(theta_value, qreg_q[4])\n",
    "circuit.cx(qreg_q[2], qreg_q[3])\n",
    "circuit.cx(qreg_q[4], qreg_q[5])\n",
    "circuit.barrier()\n",
    "circuit.draw(output='mpl')"
   ]
  },
  {
   "cell_type": "markdown",
   "id": "586b95d9",
   "metadata": {},
   "source": [
    "The first 2-qubits are used to construct the non-thermal qubit in TFD double formalism, $|00\\rangle$. The last four qubits are 2 thermal qubits $|0(\\beta)\\rangle_1$, $|0(\\beta)\\rangle_2$.\n",
    "\n",
    "Now we can apply the teleport circuit between the non-thermal and thermal qubits."
   ]
  },
  {
   "cell_type": "code",
   "execution_count": 5,
   "id": "e088d776",
   "metadata": {},
   "outputs": [
    {
     "data": {
      "image/png": "[encoded data removed]",
      "text/plain": [
       "<Figure size 989.597x445.48 with 1 Axes>"
      ]
     },
     "execution_count": 5,
     "metadata": {},
     "output_type": "execute_result"
    }
   ],
   "source": [
    "#Prepering the entenglement with the thermal state and the non-thermal state\n",
    "circuit.h(qreg_q[2])\n",
    "circuit.cx(qreg_q[2], qreg_q[4])\n",
    "circuit.cx(qreg_q[0], qreg_q[2])\n",
    "circuit.h(qreg_q[3])\n",
    "circuit.h(qreg_q[0])\n",
    "circuit.cx(qreg_q[3], qreg_q[5])\n",
    "circuit.cx(qreg_q[1], qreg_q[3])\n",
    "circuit.h(qreg_q[1])\n",
    "circuit.barrier()\n",
    "#Teleporting the non-thermal state into a thermal bath\n",
    "circuit.cx(qreg_q[2], qreg_q[4])\n",
    "circuit.cz(qreg_q[0], qreg_q[4])\n",
    "circuit.cx(qreg_q[3], qreg_q[5])\n",
    "circuit.cz(qreg_q[1], qreg_q[5])\n",
    "circuit.measure(qreg_q[4], creg_c[4])\n",
    "circuit.measure(qreg_q[5], creg_c[5])\n",
    "circuit.draw(output='mpl')"
   ]
  },
  {
   "cell_type": "markdown",
   "id": "a1160b21",
   "metadata": {},
   "source": [
    "Qiskit teleportation circuit of a non-thermal qubit to a location in thermal bath, were $|q_0,q_1\\rangle=|00\\rangle$ is the non-thermal qubit."
   ]
  },
  {
   "cell_type": "markdown",
   "id": "c8090adf",
   "metadata": {},
   "source": [
    "Now we plot the histogram to have a visualization of the teleported qubit."
   ]
  },
  {
   "cell_type": "code",
   "execution_count": 6,
   "id": "68e84ab7",
   "metadata": {},
   "outputs": [
    {
     "data": {
      "image/png": "[encoded data removed]",
      "text/plain": [
       "<Figure size 504x360 with 1 Axes>"
      ]
     },
     "execution_count": 6,
     "metadata": {},
     "output_type": "execute_result"
    }
   ],
   "source": [
    "simulator = Aer.get_backend('qasm_simulator')\n",
    "result = execute(circuit, backend=simulator).result()\n",
    "plot_histogram(result.get_counts(circuit))"
   ]
  },
  {
   "cell_type": "markdown",
   "id": "4213eb9a",
   "metadata": {},
   "source": [
    "You can find a draft with more details about this tutorial in: https://arxiv.org/abs/2111.09969"
   ]
  },
  {
   "cell_type": "code",
   "execution_count": null,
   "id": "4d809885",
   "metadata": {},
   "outputs": [],
   "source": []
  }
 ],
 "metadata": {
  "kernelspec": {
   "display_name": "Python 3",
   "language": "python",
   "name": "python3"
  },
  "language_info": {
   "codemirror_mode": {
    "name": "ipython",
    "version": 3
   },
   "file_extension": ".py",
   "mimetype": "text/x-python",
   "name": "python",
   "nbconvert_exporter": "python",
   "pygments_lexer": "ipython3",
   "version": "3.8.8"
  }
 },
 "nbformat": 4,
 "nbformat_minor": 5
}
