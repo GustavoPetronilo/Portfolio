{
 "cells": [
  {
   "cell_type": "markdown",
   "id": "7ffa1f3c-0317-4398-bbe9-7f47d045d765",
   "metadata": {},
   "source": [
    "# Solving a quadratic equation using Grover’s algorithm"
   ]
  },
  {
   "cell_type": "code",
   "execution_count": 1,
   "id": "b7f27c62-292e-47f9-8ac6-8f1034bfa95e",
   "metadata": {},
   "outputs": [],
   "source": [
    "from qrisp import auto_uncompute, z, h, QuantumFloat\n",
    "\n",
    "@auto_uncompute\n",
    "def sqrt_oracle(qf):\n",
    "    temp_qbool = (qf*qf== 3)\n",
    "    z(temp_qbool)"
   ]
  },
  {
   "cell_type": "code",
   "execution_count": 2,
   "id": "6b06ca95-ba09-496a-b4b2-723301e270b9",
   "metadata": {},
   "outputs": [
    {
     "name": "stdout",
     "output_type": "stream",
     "text": [
      "QuantumCircuit:\n",
      "---------------\n",
      "             ┌───────────┐                            ┌──────────────┐\n",
      "       qf.0: ┤0          ├────────────────────────────┤0             ├\n",
      "             │           │                            │              │\n",
      "       qf.1: ┤1          ├────────────────────────────┤1             ├\n",
      "             │           │                            │              │\n",
      "       qf.2: ┤2          ├────────────────────────────┤2             ├\n",
      "             │           │                            │              │\n",
      "       qf.3: ┤3          ├────────────────────────────┤3             ├\n",
      "             │           │┌────────┐     ┌───────────┐│              │\n",
      "  mul_res.0: ┤4          ├┤0       ├─────┤0          ├┤4             ├\n",
      "             │           ││        │     │           ││              │\n",
      "  mul_res.1: ┤5          ├┤1       ├─────┤1          ├┤5             ├\n",
      "             │           ││        │     │           ││              │\n",
      "  mul_res.2: ┤6          ├┤2       ├─────┤2          ├┤6             ├\n",
      "             │           ││        │     │           ││              │\n",
      "  mul_res.3: ┤7          ├┤3       ├─────┤3          ├┤7             ├\n",
      "             │           ││        │     │           ││              │\n",
      "  mul_res.4: ┤8  __mul__ ├┤4       ├─────┤4          ├┤8  __mul___dg ├\n",
      "             │           ││        │     │           ││              │\n",
      "  mul_res.5: ┤9          ├┤5       ├─────┤5          ├┤9             ├\n",
      "             │           ││        │     │           ││              │\n",
      "  mul_res.6: ┤10         ├┤6       ├─────┤6          ├┤10            ├\n",
      "             │           ││  equal │     │  equal_dg ││              │\n",
      "  sbp_anc.0: ┤11         ├┤        ├─────┤           ├┤11            ├\n",
      "             │           ││        │     │           ││              │\n",
      "sbp_anc_5.0: ┤12         ├┤        ├─────┤           ├┤12            ├\n",
      "             │           ││        │     │           ││              │\n",
      "sbp_anc_6.0: ┤13         ├┤        ├─────┤           ├┤13            ├\n",
      "             │           ││        │     │           ││              │\n",
      "sbp_anc_7.0: ┤14         ├┤        ├─────┤           ├┤14            ├\n",
      "             │           ││        │     │           ││              │\n",
      "sbp_anc_8.0: ┤15         ├┤        ├─────┤           ├┤15            ├\n",
      "             │           ││        │     │           ││              │\n",
      "sbp_anc_9.0: ┤16         ├┤        ├─────┤           ├┤16            ├\n",
      "             └───────────┘│        │┌───┐│           │└──────────────┘\n",
      "   eq_qbl.0: ─────────────┤7       ├┤ Z ├┤7          ├────────────────\n",
      "                          └────────┘└───┘└───────────┘                \n",
      "Live QuantumVariables:\n",
      "----------------------\n",
      "QuantumFloat qf\n"
     ]
    }
   ],
   "source": [
    "#Oracle Construction\n",
    "qf = QuantumFloat(3, -1, signed = True)\n",
    "sqrt_oracle(qf)\n",
    "print(qf.qs)"
   ]
  },
  {
   "cell_type": "code",
   "execution_count": 3,
   "id": "08abaf72-6fa7-4ca4-8c0c-213b35c2c418",
   "metadata": {},
   "outputs": [
    {
     "data": {
      "text/plain": [
       "12"
      ]
     },
     "execution_count": 3,
     "metadata": {},
     "output_type": "execute_result"
    }
   ],
   "source": [
    "qf.qs.compile().num_qubits()"
   ]
  },
  {
   "cell_type": "markdown",
   "id": "c7795d05-8d41-41d4-807e-c9465dba9b23",
   "metadata": {},
   "source": [
    "### Grover’s algorithm"
   ]
  },
  {
   "cell_type": "code",
   "execution_count": 4,
   "id": "7a5c8c72-8698-40f8-a255-7c36f22fa761",
   "metadata": {},
   "outputs": [],
   "source": [
    "from qrisp.grover import diffuser\n",
    "\n",
    "qf = QuantumFloat(3, -1, signed = True)\n",
    "\n",
    "n = qf.size\n",
    "iterations = int((2**n/2)**0.5)\n",
    "\n",
    "h(qf)\n",
    "\n",
    "for i in range(iterations):\n",
    "    sqrt_oracle(qf)\n",
    "    diffuser(qf)"
   ]
  },
  {
   "cell_type": "code",
   "execution_count": 5,
   "id": "0a23d424-ec01-4878-ab25-c99ec82be47a",
   "metadata": {},
   "outputs": [
    {
     "name": "stdout",
     "output_type": "stream",
     "text": [
      "{0.0: 0.0625, 0.5: 0.0625, 1.0: 0.0625, 1.5: 0.0625, 2.0: 0.0625, 2.5: 0.0625, 3.0: 0.0625, 3.5: 0.0625, -4.0: 0.0625, -3.5: 0.0625, -3.0: 0.0625, -2.5: 0.0625, -2.0: 0.0625, -1.5: 0.0625, -1.0: 0.0625, -0.5: 0.0625}\n"
     ]
    }
   ],
   "source": [
    "print(qf)"
   ]
  },
  {
   "cell_type": "markdown",
   "id": "147861dd-06c8-45d3-aa74-61a900c3ee1b",
   "metadata": {},
   "source": []
  },
  {
   "cell_type": "code",
   "execution_count": null,
   "id": "d1445a94-bb56-40ce-88ab-3c0d3ac4d54a",
   "metadata": {},
   "outputs": [],
   "source": []
  },
  {
   "cell_type": "code",
   "execution_count": null,
   "id": "d4921aea-c5cd-4321-af56-9ae68b06993c",
   "metadata": {},
   "outputs": [],
   "source": []
  },
  {
   "cell_type": "code",
   "execution_count": null,
   "id": "e1f1ae38-948e-4b46-b374-3a8d7b19f0ec",
   "metadata": {},
   "outputs": [],
   "source": []
  },
  {
   "cell_type": "code",
   "execution_count": null,
   "id": "34ce6e52-1a28-4b59-84da-715a0b0ac7db",
   "metadata": {},
   "outputs": [],
   "source": []
  }
 ],
 "metadata": {
  "kernelspec": {
   "display_name": "Python 3 (ipykernel)",
   "language": "python",
   "name": "python3"
  },
  "language_info": {
   "codemirror_mode": {
    "name": "ipython",
    "version": 3
   },
   "file_extension": ".py",
   "mimetype": "text/x-python",
   "name": "python",
   "nbconvert_exporter": "python",
   "pygments_lexer": "ipython3",
   "version": "3.9.12"
  }
 },
 "nbformat": 4,
 "nbformat_minor": 5
}
