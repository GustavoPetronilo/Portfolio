{
 "cells": [
  {
   "cell_type": "code",
   "execution_count": 1,
   "id": "572933d9-6dde-4793-8f39-f874b395417d",
   "metadata": {},
   "outputs": [
    {
     "name": "stdout",
     "output_type": "stream",
     "text": [
      "                                                                                     \u001b[2K\r"
     ]
    }
   ],
   "source": [
    "from qrisp import QuantumFloat\n",
    "qf_0 = QuantumFloat(3,-1)\n",
    "qf_1 = QuantumFloat(3,-1)\n",
    "qf_0[:] = 2\n",
    "qf_1[:] = {0.5 : 1, 3.5: -1j}"
   ]
  },
  {
   "cell_type": "code",
   "execution_count": 2,
   "id": "d028ac0b-7924-4562-bcf8-48b61663e535",
   "metadata": {},
   "outputs": [],
   "source": [
    "qf_res = qf_0 + qf_1"
   ]
  },
  {
   "cell_type": "code",
   "execution_count": 3,
   "id": "eea0aa9f-9155-4910-8ea5-7eb516a506ad",
   "metadata": {},
   "outputs": [
    {
     "name": "stdout",
     "output_type": "stream",
     "text": [
      "sqrt(2)*(|2.0>*|0.5>*|2.5> - I*|2.0>*|3.5>*|5.5>)/2                                  \u001b[2K\n"
     ]
    }
   ],
   "source": [
    "sv = qf_0.qs.statevector()\n",
    "print(sv)"
   ]
  },
  {
   "cell_type": "code",
   "execution_count": 4,
   "id": "b9ce9434-d30c-4c1a-bb42-c51edc0be387",
   "metadata": {},
   "outputs": [
    {
     "data": {
      "text/latex": [
       "$\\displaystyle \\frac{\\sqrt{2} \\left({\\left|2.0\\right\\rangle } {\\left|0.5\\right\\rangle } {\\left|2.5\\right\\rangle } - i {\\left|2.0\\right\\rangle } {\\left|3.5\\right\\rangle } {\\left|5.5\\right\\rangle }\\right)}{2}$"
      ],
      "text/plain": [
       "sqrt(2)*(|2.0>*|0.5>*|2.5> - I*|2.0>*|3.5>*|5.5>)/2"
      ]
     },
     "execution_count": 4,
     "metadata": {},
     "output_type": "execute_result"
    }
   ],
   "source": [
    "sv"
   ]
  },
  {
   "cell_type": "code",
   "execution_count": 6,
   "id": "47fe7972-6b37-4ee4-9b4c-b5fd59990af1",
   "metadata": {},
   "outputs": [
    {
     "name": "stdout",
     "output_type": "stream",
     "text": [
      "                                                                                     \u001b[2K\r"
     ]
    },
    {
     "data": {
      "text/latex": [
       "$\\displaystyle \\sin{\\left(\\frac{\\omega}{2} + \\frac{\\pi}{4} \\right)} {\\left|0\\right\\rangle } + e^{- i \\phi} \\cos{\\left(\\frac{\\omega}{2} + \\frac{\\pi}{4} \\right)} {\\left|1\\right\\rangle }$"
      ],
      "text/plain": [
       "sin(omega/2 + pi/4)*|0> + exp(-I*phi)*cos(omega/2 + pi/4)*|1>"
      ]
     },
     "execution_count": 6,
     "metadata": {},
     "output_type": "execute_result"
    }
   ],
   "source": [
    "from qrisp import QuantumVariable, ry, h, p\n",
    "from sympy import Symbol\n",
    "qv = QuantumVariable(1)\n",
    "ry(Symbol(\"omega\"), qv)\n",
    "h(qv)\n",
    "p(-Symbol(\"phi\"), qv)\n",
    "qv.qs.statevector()"
   ]
  },
  {
   "cell_type": "code",
   "execution_count": 7,
   "id": "18749118-90e5-4a40-94ca-4de3a102e313",
   "metadata": {},
   "outputs": [
    {
     "name": "stdout",
     "output_type": "stream",
     "text": [
      "\\frac{\\sqrt{2} \\left({\\left|2.0\\right\\rangle } {\\left|0.5\\right\\rangle } {\\left|2.5\\right\\rangle } - i {\\left|2.0\\right\\rangle } {\\left|3.5\\right\\rangle } {\\left|5.5\\right\\rangle }\\right)}{2}\n"
     ]
    }
   ],
   "source": [
    "print(qf_0.qs.statevector(return_type = \"latex\"))"
   ]
  },
  {
   "cell_type": "code",
   "execution_count": 8,
   "id": "1dc86e71-f154-48cd-bd56-82196e855d83",
   "metadata": {},
   "outputs": [
    {
     "name": "stdout",
     "output_type": "stream",
     "text": [
      "                                                                                     \u001b[2K\r"
     ]
    }
   ],
   "source": [
    "sv_function = qf_0.qs.statevector(\"function\")"
   ]
  },
  {
   "cell_type": "code",
   "execution_count": 9,
   "id": "fbe0298f-200f-414f-bd2f-f583840bb5fa",
   "metadata": {},
   "outputs": [],
   "source": [
    "label_constellation_a = {qf_0 : 2, qf_1 : 0.5, qf_res : 2+0.5}\n",
    "label_constellation_b = {qf_0 : 2, qf_1 : 3.5, qf_res : 2+3.5}\n",
    "label_constellation_c = {qf_0 : 2, qf_1 : 3.5, qf_res : 4}"
   ]
  },
  {
   "cell_type": "code",
   "execution_count": null,
   "id": "f5c05712-b887-4efb-833e-50f37a19b337",
   "metadata": {},
   "outputs": [],
   "source": []
  }
 ],
 "metadata": {
  "kernelspec": {
   "display_name": "Python 3 (ipykernel)",
   "language": "python",
   "name": "python3"
  },
  "language_info": {
   "codemirror_mode": {
    "name": "ipython",
    "version": 3
   },
   "file_extension": ".py",
   "mimetype": "text/x-python",
   "name": "python",
   "nbconvert_exporter": "python",
   "pygments_lexer": "ipython3",
   "version": "3.9.12"
  }
 },
 "nbformat": 4,
 "nbformat_minor": 5
}
