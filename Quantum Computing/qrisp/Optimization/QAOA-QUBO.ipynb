{
 "cells": [
  {
   "cell_type": "code",
   "execution_count": 1,
   "id": "7ef54da4-ca5a-4d6f-9274-b2d12e657be8",
   "metadata": {},
   "outputs": [
    {
     "name": "stdout",
     "output_type": "stream",
     "text": [
      "                                                                                     \u001b[2K\u001b[2K\u001b[2K\u001b[2K\u001b[2K\u001b[2K\u001b[2K\r"
     ]
    },
    {
     "data": {
      "text/plain": [
       "(-27, OutcomeArray(['0', '1', '1', '0', '0', '0'], dtype=object))"
      ]
     },
     "execution_count": 1,
     "metadata": {},
     "output_type": "execute_result"
    }
   ],
   "source": [
    "from qrisp.qaoa import *\n",
    "import numpy as np\n",
    "\n",
    "Q = np.array(\n",
    "    [\n",
    "        [-17,  10,  10,  10,   0,  20],\n",
    "        [ 10, -18,  10,  10,  10,  20],\n",
    "        [ 10,  10, -29,  10,  20,  20],\n",
    "        [ 10,  10,  10, -19,  10,  10],\n",
    "        [ 0,   10,  20,  10, -17,  10],\n",
    "        [ 20,  20,  20,  10,  10, -28],\n",
    "    ]\n",
    ")\n",
    "\n",
    "solve_QUBO(Q, depth = 1, backend = def_backend, n_solutions=10)"
   ]
  },
  {
   "cell_type": "code",
   "execution_count": null,
   "id": "2fef8212-110a-4902-985f-ea3a73462613",
   "metadata": {},
   "outputs": [],
   "source": []
  }
 ],
 "metadata": {
  "kernelspec": {
   "display_name": "Python 3 (ipykernel)",
   "language": "python",
   "name": "python3"
  },
  "language_info": {
   "codemirror_mode": {
    "name": "ipython",
    "version": 3
   },
   "file_extension": ".py",
   "mimetype": "text/x-python",
   "name": "python",
   "nbconvert_exporter": "python",
   "pygments_lexer": "ipython3",
   "version": "3.9.12"
  }
 },
 "nbformat": 4,
 "nbformat_minor": 5
}
