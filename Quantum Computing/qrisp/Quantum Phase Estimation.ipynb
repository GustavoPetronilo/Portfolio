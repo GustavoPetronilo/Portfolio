{
 "cells": [
  {
   "cell_type": "markdown",
   "id": "002f6583-7bb8-4b86-8997-226d84e3a2cd",
   "metadata": {},
   "source": [
    "### Quantum Phase Estimation"
   ]
  },
  {
   "cell_type": "code",
   "execution_count": 1,
   "id": "7050ebe5-0b52-457e-9cd6-f013f1df414d",
   "metadata": {},
   "outputs": [],
   "source": [
    "from qrisp import QuantumFloat, control, QFT, h\n",
    "\n",
    "def QPE(psi, U, precision):\n",
    "\n",
    "    res = QuantumFloat(precision, -precision)\n",
    "\n",
    "    h(res)\n",
    "\n",
    "    for i in range(precision):\n",
    "        with control(res[i]):\n",
    "            for j in range(2**i):\n",
    "                U(psi)\n",
    "\n",
    "    return QFT(res, inv = True)"
   ]
  },
  {
   "cell_type": "code",
   "execution_count": 2,
   "id": "c4fab39e-7dbc-4f37-9c68-38ee6d2b6cf2",
   "metadata": {},
   "outputs": [],
   "source": [
    "from qrisp import p, QuantumVariable, multi_measurement\n",
    "import numpy as np\n",
    "\n",
    "def U(psi):\n",
    "    phi_1 = 0.5\n",
    "    phi_2 = 0.125\n",
    "\n",
    "    p(phi_1*2*np.pi, psi[0])\n",
    "    p(phi_2*2*np.pi, psi[1])\n",
    "\n",
    "psi = QuantumVariable(2)\n",
    "\n",
    "h(psi)\n",
    "\n",
    "res = QPE(psi, U, 3)"
   ]
  },
  {
   "cell_type": "code",
   "execution_count": 3,
   "id": "76526c9e-0061-4e8a-a1b8-571cc3ac1c49",
   "metadata": {},
   "outputs": [
    {
     "name": "stdout",
     "output_type": "stream",
     "text": [
      "{('00', 0.0): 0.25, ('10', 0.5): 0.25, ('01', 0.125): 0.25, ('11', 0.625): 0.25}     \u001b[2K\n"
     ]
    }
   ],
   "source": [
    "print(multi_measurement([psi, res]))"
   ]
  },
  {
   "cell_type": "code",
   "execution_count": null,
   "id": "dad69365-9a28-4654-9465-70eae3c592d2",
   "metadata": {},
   "outputs": [],
   "source": []
  }
 ],
 "metadata": {
  "kernelspec": {
   "display_name": "Python 3 (ipykernel)",
   "language": "python",
   "name": "python3"
  },
  "language_info": {
   "codemirror_mode": {
    "name": "ipython",
    "version": 3
   },
   "file_extension": ".py",
   "mimetype": "text/x-python",
   "name": "python",
   "nbconvert_exporter": "python",
   "pygments_lexer": "ipython3",
   "version": "3.9.12"
  }
 },
 "nbformat": 4,
 "nbformat_minor": 5
}
