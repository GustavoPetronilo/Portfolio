{
 "cells": [
  {
   "cell_type": "code",
   "execution_count": 1,
   "id": "ac514e20-99b7-4c32-9490-f806c10bfb2d",
   "metadata": {},
   "outputs": [],
   "source": [
    "# General imports\n",
    "import numpy as np\n",
    "import warnings\n",
    "warnings.filterwarnings(\"ignore\")\n",
    "\n",
    "# Pre-defined ansatz circuit and operator class for Hamiltonian\n",
    "from qiskit import *\n",
    "#from qiskit_nature.second_q.hamiltonians import ElectronicEnergy\n",
    "from qiskit_nature.second_q.mappers import JordanWignerMapper, QubitMapper\n",
    "from qiskit_nature.second_q.circuit.library import HartreeFock, UCCSD\n",
    "from qiskit.circuit import Parameter, QuantumCircuit, QuantumRegister\n",
    "from qiskit_algorithms import VQE, NumPyMinimumEigensolver\n",
    "from qiskit_optimization.algorithms import MinimumEigenOptimizer\n",
    "from qiskit_nature.second_q.drivers import PySCFDriver\n",
    "#from qiskit.circuit.library import EfficientSU2\n",
    "#from qiskit.quantum_info import SparsePauliOp\n",
    "from qiskit_nature.second_q.formats.molecule_info import MoleculeInfo\n",
    "from qiskit_nature.second_q.transformers import ActiveSpaceTransformer\n",
    "from qiskit_algorithms.optimizers import SLSQP, SPSA\n",
    "from qiskit.primitives import Estimator\n",
    "#from qiskit_nature.second_q.algorithms import GroundStateEigensolver\n",
    "\n",
    "# SciPy minimizer routine\n",
    "from scipy.optimize import minimize\n",
    "\n",
    "# Plotting functions\n",
    "import matplotlib.pyplot as plt"
   ]
  },
  {
   "cell_type": "code",
   "execution_count": 2,
   "id": "7079b55c-2145-4ab9-a78e-9217a6d27b22",
   "metadata": {},
   "outputs": [],
   "source": [
    "molecule = \"H .0 .0 .0; H .0 .0 0.739\"\n",
    "distances=np.arange(0.5,4.25,0.25)\n",
    "vqe_energies=[]\n",
    "hf_energies=[]\n",
    "exact_energies=[]"
   ]
  },
  {
   "cell_type": "code",
   "execution_count": 3,
   "id": "d09626d2-5991-4e72-a989-0e9f51e2c90b",
   "metadata": {},
   "outputs": [
    {
     "name": "stdout",
     "output_type": "stream",
     "text": [
      "step 0\n",
      "Polynomial Tensor\n",
      " \"+-\":\n",
      "array([[-1.25391476e+00, -4.25326005e-16],\n",
      "       [-2.40547956e-16, -4.74438097e-01]])\n",
      " \"++--\":\n",
      "array([6.74946763e-01, 6.24500451e-17, 1.81154541e-01, 6.63885295e-01,\n",
      "       3.60822483e-16, 6.97835732e-01])\n",
      "step 1\n",
      "Polynomial Tensor\n",
      " \"+-\":\n",
      "array([[-1.25391476e+00, -4.25326005e-16],\n",
      "       [-2.40547956e-16, -4.74438097e-01]])\n",
      " \"++--\":\n",
      "array([6.74946763e-01, 6.24500451e-17, 1.81154541e-01, 6.63885295e-01,\n",
      "       3.60822483e-16, 6.97835732e-01])\n",
      "step 2\n",
      "Polynomial Tensor\n",
      " \"+-\":\n",
      "array([[-1.25391476e+00, -4.25326005e-16],\n",
      "       [-2.40547956e-16, -4.74438097e-01]])\n",
      " \"++--\":\n",
      "array([6.74946763e-01, 6.24500451e-17, 1.81154541e-01, 6.63885295e-01,\n",
      "       3.60822483e-16, 6.97835732e-01])\n",
      "step 3\n",
      "Polynomial Tensor\n",
      " \"+-\":\n",
      "array([[-1.25391476e+00, -4.25326005e-16],\n",
      "       [-2.40547956e-16, -4.74438097e-01]])\n",
      " \"++--\":\n",
      "array([6.74946763e-01, 6.24500451e-17, 1.81154541e-01, 6.63885295e-01,\n",
      "       3.60822483e-16, 6.97835732e-01])\n",
      "step 4\n",
      "Polynomial Tensor\n",
      " \"+-\":\n",
      "array([[-1.25391476e+00, -4.25326005e-16],\n",
      "       [-2.40547956e-16, -4.74438097e-01]])\n",
      " \"++--\":\n",
      "array([6.74946763e-01, 6.24500451e-17, 1.81154541e-01, 6.63885295e-01,\n",
      "       3.60822483e-16, 6.97835732e-01])\n",
      "step 5\n",
      "Polynomial Tensor\n",
      " \"+-\":\n",
      "array([[-1.25391476e+00, -4.25326005e-16],\n",
      "       [-2.40547956e-16, -4.74438097e-01]])\n",
      " \"++--\":\n",
      "array([6.74946763e-01, 6.24500451e-17, 1.81154541e-01, 6.63885295e-01,\n",
      "       3.60822483e-16, 6.97835732e-01])\n",
      "step 6\n",
      "Polynomial Tensor\n",
      " \"+-\":\n",
      "array([[-1.25391476e+00, -4.25326005e-16],\n",
      "       [-2.40547956e-16, -4.74438097e-01]])\n",
      " \"++--\":\n",
      "array([6.74946763e-01, 6.24500451e-17, 1.81154541e-01, 6.63885295e-01,\n",
      "       3.60822483e-16, 6.97835732e-01])\n",
      "step 7\n",
      "Polynomial Tensor\n",
      " \"+-\":\n",
      "array([[-1.25391476e+00, -4.25326005e-16],\n",
      "       [-2.40547956e-16, -4.74438097e-01]])\n",
      " \"++--\":\n",
      "array([6.74946763e-01, 6.24500451e-17, 1.81154541e-01, 6.63885295e-01,\n",
      "       3.60822483e-16, 6.97835732e-01])\n",
      "step 8\n",
      "Polynomial Tensor\n",
      " \"+-\":\n",
      "array([[-1.25391476e+00, -4.25326005e-16],\n",
      "       [-2.40547956e-16, -4.74438097e-01]])\n",
      " \"++--\":\n",
      "array([6.74946763e-01, 6.24500451e-17, 1.81154541e-01, 6.63885295e-01,\n",
      "       3.60822483e-16, 6.97835732e-01])\n",
      "step 9\n",
      "Polynomial Tensor\n",
      " \"+-\":\n",
      "array([[-1.25391476e+00, -4.25326005e-16],\n",
      "       [-2.40547956e-16, -4.74438097e-01]])\n",
      " \"++--\":\n",
      "array([6.74946763e-01, 6.24500451e-17, 1.81154541e-01, 6.63885295e-01,\n",
      "       3.60822483e-16, 6.97835732e-01])\n",
      "step 10\n",
      "Polynomial Tensor\n",
      " \"+-\":\n",
      "array([[-1.25391476e+00, -4.25326005e-16],\n",
      "       [-2.40547956e-16, -4.74438097e-01]])\n",
      " \"++--\":\n",
      "array([6.74946763e-01, 6.24500451e-17, 1.81154541e-01, 6.63885295e-01,\n",
      "       3.60822483e-16, 6.97835732e-01])\n",
      "step 11\n",
      "Polynomial Tensor\n",
      " \"+-\":\n",
      "array([[-1.25391476e+00, -4.25326005e-16],\n",
      "       [-2.40547956e-16, -4.74438097e-01]])\n",
      " \"++--\":\n",
      "array([6.74946763e-01, 6.24500451e-17, 1.81154541e-01, 6.63885295e-01,\n",
      "       3.60822483e-16, 6.97835732e-01])\n",
      "step 12\n",
      "Polynomial Tensor\n",
      " \"+-\":\n",
      "array([[-1.25391476e+00, -4.25326005e-16],\n",
      "       [-2.40547956e-16, -4.74438097e-01]])\n",
      " \"++--\":\n",
      "array([6.74946763e-01, 6.24500451e-17, 1.81154541e-01, 6.63885295e-01,\n",
      "       3.60822483e-16, 6.97835732e-01])\n",
      "step 13\n",
      "Polynomial Tensor\n",
      " \"+-\":\n",
      "array([[-1.25391476e+00, -4.25326005e-16],\n",
      "       [-2.40547956e-16, -4.74438097e-01]])\n",
      " \"++--\":\n",
      "array([6.74946763e-01, 6.24500451e-17, 1.81154541e-01, 6.63885295e-01,\n",
      "       3.60822483e-16, 6.97835732e-01])\n",
      "step 14\n",
      "Polynomial Tensor\n",
      " \"+-\":\n",
      "array([[-1.25391476e+00, -4.25326005e-16],\n",
      "       [-2.40547956e-16, -4.74438097e-01]])\n",
      " \"++--\":\n",
      "array([6.74946763e-01, 6.24500451e-17, 1.81154541e-01, 6.63885295e-01,\n",
      "       3.60822483e-16, 6.97835732e-01])\n"
     ]
    }
   ],
   "source": [
    "for i,d in enumerate(distances):\n",
    "    print('step', i)\n",
    "    #setup my experiment\n",
    "    driver=PySCFDriver(molecule.format(d/2),basis='sto3g')\n",
    "    qmolecule = driver.run()\n",
    "    #print(problem.num_particles)\n",
    "    hamiltonian = qmolecule.hamiltonian\n",
    "    coefficients = hamiltonian.electronic_integrals\n",
    "    print(coefficients.alpha)\n",
    "    # Generate the second-quantized operators\n",
    "    hamiltonian = qmolecule.hamiltonian.second_q_op()\n",
    "    second_q_ops = qmolecule.second_q_ops()\n",
    "\n",
    "    # Hamiltonian\n",
    "    main_op = second_q_ops[0]"
   ]
  },
  {
   "cell_type": "code",
   "execution_count": 4,
   "id": "4160770f-3431-4f3b-8d00-cd661818d6b7",
   "metadata": {},
   "outputs": [],
   "source": [
    "from qiskit_nature.second_q.mappers import ParityMapper, BravyiKitaevMapper, JordanWignerMapper, QubitMapper, InterleavedQubitMapper\n",
    "\n",
    "# Setup the mapper and qubit converter\n",
    "mapper_type = 'JordanWignerMapper'\n",
    "\n",
    "if mapper_type == 'ParityMapper':\n",
    "    mapper = ParityMapper()\n",
    "elif mapper_type == 'JordanWignerMapper':\n",
    "    mapper = JordanWignerMapper()\n",
    "elif mapper_type == 'BravyiKitaevMapper':\n",
    "    mapper = BravyiKitaevMapper()\n",
    "\n",
    "converter = InterleavedQubitMapper(mapper)\n",
    "\n",
    "# The fermionic operators are mapped to qubit operators\n",
    "\n",
    "#qubit_op = converter.two_qubit_reduction(main_op, num_particles)\n",
    "qubit_op = converter.map(hamiltonian)"
   ]
  },
  {
   "cell_type": "code",
   "execution_count": 5,
   "id": "a4c4694a-db25-4b7d-9a8c-2d39f05d3a9d",
   "metadata": {},
   "outputs": [
    {
     "name": "stdout",
     "output_type": "stream",
     "text": [
      "     ┌───┐\n",
      "q_0: ┤ X ├\n",
      "     ├───┤\n",
      "q_1: ┤ X ├\n",
      "     └───┘\n",
      "q_2: ─────\n",
      "          \n",
      "q_3: ─────\n",
      "          \n",
      "q_4: ─────\n",
      "          \n",
      "q_5: ─────\n",
      "          \n",
      "q_6: ─────\n",
      "          \n",
      "q_7: ─────\n",
      "          \n"
     ]
    }
   ],
   "source": [
    "from qiskit_nature.second_q.circuit.library import HartreeFock\n",
    "\n",
    "num_particles = qmolecule.num_particles\n",
    "num_spin_orbitals = qmolecule.num_spatial_orbitals * 2\n",
    "init_state = HartreeFock(num_spin_orbitals,num_particles,converter)\n",
    "print(init_state)"
   ]
  },
  {
   "cell_type": "markdown",
   "id": "3470c867-5f2c-4512-8ea1-ed1017f01943",
   "metadata": {},
   "source": [
    "## VQE"
   ]
  },
  {
   "cell_type": "code",
   "execution_count": 6,
   "id": "e86ce8fe-579a-4866-8d47-fbe9b088d578",
   "metadata": {},
   "outputs": [
    {
     "name": "stdout",
     "output_type": "stream",
     "text": [
      "(1, 1)\n",
      "2\n",
      "(1, 1)\n",
      "2\n"
     ]
    }
   ],
   "source": [
    "for i in range(1):\n",
    "\n",
    "    print(qmolecule.num_particles)\n",
    "    # print(problem.num_parameters)\n",
    "    print(qmolecule.num_spatial_orbitals)\n",
    "\n",
    "    transformer = ActiveSpaceTransformer(num_electrons=2, num_spatial_orbitals=2)\n",
    "    transformed_problem = transformer.transform(qmolecule)\n",
    "    print(transformed_problem.num_particles)\n",
    "    print(transformed_problem.num_spatial_orbitals)\n",
    "\n",
    "    mapper = JordanWignerMapper()\n",
    "\n",
    "    ansatz = UCCSD(\n",
    "    transformed_problem.num_spatial_orbitals,\n",
    "    transformed_problem.num_particles,\n",
    "    mapper,\n",
    "    initial_state=HartreeFock(\n",
    "        transformed_problem.num_spatial_orbitals,\n",
    "        transformed_problem.num_particles,\n",
    "        mapper,\n",
    "        ),\n",
    "    )\n",
    "\n",
    "    counts = []\n",
    "    values = []\n",
    "\n",
    "    def iteration_value(eval_count, parameters, mean, std):\n",
    "        counts.append(eval_count)\n",
    "        values.append(mean)\n",
    "\n",
    "    vqe_solver = VQE(Estimator(), ansatz, SLSQP(), callback=iteration_value)\n",
    "    vqe_solver.initial_point = [0.0] * ansatz.num_parameters\n"
   ]
  },
  {
   "cell_type": "code",
   "execution_count": 7,
   "id": "21cd6ed4-f05c-49a1-8d49-2ae597ff18bf",
   "metadata": {},
   "outputs": [],
   "source": [
    "numpy_solver = NumPyMinimumEigensolver()\n",
    "result = numpy_solver.compute_minimum_eigenvalue(qubit_op)\n",
    "ref_value = result.eigenvalue.real"
   ]
  },
  {
   "cell_type": "code",
   "execution_count": 9,
   "id": "09413a70-0724-4fd9-86c2-af11a7db2ea0",
   "metadata": {},
   "outputs": [
    {
     "name": "stdout",
     "output_type": "stream",
     "text": [
      "VQE value: -1.24562\n",
      "Reference value: -1.85336\n"
     ]
    }
   ],
   "source": [
    "vqe_result = vqe_solver.compute_minimum_eigenvalue(qubit_op).eigenvalue\n",
    "print(f\"VQE value: {vqe_result:.5f}\")\n",
    "print(f\"Reference value: {ref_value:.5f}\")"
   ]
  },
  {
   "cell_type": "code",
   "execution_count": 10,
   "id": "75f06317-49e9-45c6-a494-e1ee4a520fa1",
   "metadata": {},
   "outputs": [
    {
     "ename": "ModuleNotFoundError",
     "evalue": "No module named 'qiskit_ibm_runtime'",
     "output_type": "error",
     "traceback": [
      "\u001b[0;31m---------------------------------------------------------------------------\u001b[0m",
      "\u001b[0;31mModuleNotFoundError\u001b[0m                       Traceback (most recent call last)",
      "Cell \u001b[0;32mIn[10], line 1\u001b[0m\n\u001b[0;32m----> 1\u001b[0m \u001b[38;5;28;01mimport\u001b[39;00m \u001b[38;5;21;01mqiskit_ibm_runtime\u001b[39;00m\n\u001b[1;32m      3\u001b[0m qiskit_ibm_runtime\u001b[38;5;241m.\u001b[39mversion\u001b[38;5;241m.\u001b[39mget_version_info()\n",
      "\u001b[0;31mModuleNotFoundError\u001b[0m: No module named 'qiskit_ibm_runtime'"
     ]
    }
   ],
   "source": [
    "import qiskit_ibm_runtime\n",
    "\n",
    "qiskit_ibm_runtime.version.get_version_info()"
   ]
  },
  {
   "cell_type": "code",
   "execution_count": null,
   "id": "9a7e7ef0-b247-475f-b39f-1663f894a21d",
   "metadata": {},
   "outputs": [],
   "source": []
  }
 ],
 "metadata": {
  "kernelspec": {
   "display_name": "Python 3 (ipykernel)",
   "language": "python",
   "name": "python3"
  },
  "language_info": {
   "codemirror_mode": {
    "name": "ipython",
    "version": 3
   },
   "file_extension": ".py",
   "mimetype": "text/x-python",
   "name": "python",
   "nbconvert_exporter": "python",
   "pygments_lexer": "ipython3",
   "version": "3.9.12"
  }
 },
 "nbformat": 4,
 "nbformat_minor": 5
}
